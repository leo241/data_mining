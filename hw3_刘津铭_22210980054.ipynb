{
 "cells": [
  {
   "cell_type": "markdown",
   "id": "7c406cd5",
   "metadata": {},
   "source": [
    "# 一、利用 Newton-Raphson 算法实现逻辑回归"
   ]
  },
  {
   "cell_type": "markdown",
   "id": "f3d1aebb",
   "metadata": {},
   "source": [
    "令$p(x;\\beta) = \\frac{exp(x^T \\beta)}{1 + exp(x^T \\beta)} = \\frac{1}{1 + exp(-x^T \\beta)}$"
   ]
  },
  {
   "cell_type": "markdown",
   "id": "6d7732a2",
   "metadata": {},
   "source": [
    "对数似然函数 $l(\\beta) = \\Sigma_{i=1}^n [y_i log p(x_i;\\beta) + (1-yi)log(1-p(x_i;\\beta))]$"
   ]
  },
  {
   "cell_type": "markdown",
   "id": "336cc053",
   "metadata": {},
   "source": [
    "根据链式法则，$\\frac{\\partial p(x;\\beta)}{\\partial \\beta} = p(x;\\beta) (1-p(x;\\beta)) x$"
   ]
  },
  {
   "cell_type": "markdown",
   "id": "cd5b5cb9",
   "metadata": {},
   "source": [
    "进而，$\\frac{\\partial l(\\beta)}{\\partial \\beta} = \\Sigma_{i=1}^n [y_i \\frac{1}{p} p (1-p)x_i - (1-y_i) \\frac{1}{1-p} p (1-p) x_i]$"
   ]
  },
  {
   "cell_type": "markdown",
   "id": "3bbfae06",
   "metadata": {},
   "source": [
    "$=\\Sigma_{i=1}^n [y_i(1-p)x_i - (1-y_i)px_i]$"
   ]
  },
  {
   "cell_type": "markdown",
   "id": "930eafd8",
   "metadata": {},
   "source": [
    "$=\\Sigma_{i=1}^n [(y_i - p(x_i; \\beta))x_i]\\cdots$记作$g_k$"
   ]
  },
  {
   "cell_type": "markdown",
   "id": "4acead90",
   "metadata": {},
   "source": [
    "海森矩阵$\\frac{\\partial^2 l(\\beta)}{\\partial \\beta \\partial \\beta ^ T} = -\\Sigma x_i x_i^T p(x_i;\\beta)(1 - p(x_i;\\beta))\\cdots$记作$H_k$"
   ]
  },
  {
   "cell_type": "markdown",
   "id": "1e386472",
   "metadata": {},
   "source": [
    "牛顿法更新公式为$x_{k+1} = x_k - H_k^{-1} g_k$"
   ]
  },
  {
   "cell_type": "markdown",
   "id": "55484968",
   "metadata": {},
   "source": [
    "按照上述步骤实现优化按题意进行逻辑回归，代码如下："
   ]
  },
  {
   "cell_type": "code",
   "execution_count": 1,
   "id": "49778d9d",
   "metadata": {},
   "outputs": [],
   "source": [
    "import numpy as np\n",
    "from tqdm import tqdm\n",
    "import warnings\n",
    "warnings.filterwarnings('ignore')\n",
    "from matplotlib import pyplot as plt\n",
    "plt.rcParams['font.sans-serif']=['SimHei'] #用来正常显示中文标签\n",
    "plt.rcParams['axes.unicode_minus']=False #用来正常显示负号 \n",
    "import pandas as pd\n",
    "from sklearn.linear_model import LogisticRegression\n",
    "from sklearn.metrics import roc_curve,auc"
   ]
  },
  {
   "cell_type": "markdown",
   "id": "67c2ba54",
   "metadata": {},
   "source": [
    "## （1） 设置真实参数值 "
   ]
  },
  {
   "cell_type": "code",
   "execution_count": 2,
   "id": "6da3e8f0",
   "metadata": {},
   "outputs": [],
   "source": [
    "beta = np.array([-0.5, 0.5,-1, 1])"
   ]
  },
  {
   "cell_type": "markdown",
   "id": "f0de8707",
   "metadata": {},
   "source": [
    "## (2) 生成X"
   ]
  },
  {
   "cell_type": "code",
   "execution_count": 3,
   "id": "875a67c5",
   "metadata": {},
   "outputs": [],
   "source": [
    "def generate_x(N:int):\n",
    "    x1 = np.ones((N, 1))\n",
    "    x2 = np.random.normal(size = (N,3))\n",
    "    x = np.concatenate([x1,x2], 1)\n",
    "    return x"
   ]
  },
  {
   "cell_type": "markdown",
   "id": "0ea49830",
   "metadata": {},
   "source": [
    "## (3)牛顿法迭代"
   ]
  },
  {
   "cell_type": "markdown",
   "id": "99f888ff",
   "metadata": {},
   "source": [
    "设置超参数"
   ]
  },
  {
   "cell_type": "code",
   "execution_count": 4,
   "id": "adde144b",
   "metadata": {},
   "outputs": [],
   "source": [
    "R = 200\n",
    "N_list = [200, 500, 750, 1000]"
   ]
  },
  {
   "cell_type": "markdown",
   "id": "332d9d3d",
   "metadata": {},
   "source": [
    "根据公式写出迭代函数"
   ]
  },
  {
   "cell_type": "code",
   "execution_count": 5,
   "id": "1ae872c5",
   "metadata": {},
   "outputs": [],
   "source": [
    "def p(x, beta):\n",
    "    return 1/(1 + np.exp(- x @ beta))\n",
    "def g(x,beta, y):\n",
    "    return (y - p(x,beta)) @ x\n",
    "def H(x, beta):\n",
    "    s = 0\n",
    "    for xi in x:\n",
    "        xi1 = xi.reshape(4,1)\n",
    "        xi2 = xi.reshape(1,4)\n",
    "        pp = p(xi, beta)\n",
    "        s += xi1@xi2 * pp * (1-pp)\n",
    "    return -s"
   ]
  },
  {
   "cell_type": "markdown",
   "id": "b7f547f8",
   "metadata": {},
   "source": [
    "根据公式写出生成y的函数:服从伯努利分布(1,p)"
   ]
  },
  {
   "cell_type": "code",
   "execution_count": 6,
   "id": "2fa200ba",
   "metadata": {},
   "outputs": [],
   "source": [
    "def generate_y(x, beta):\n",
    "    y_prob = p(x, beta)\n",
    "    y_prob = np.random.binomial(1, y_prob)\n",
    "#     y_prob[y_prob > 0.5] = 0.9\n",
    "#     y_prob[y_prob <=  0.5] = 0.1\n",
    "    return y_prob"
   ]
  },
  {
   "cell_type": "markdown",
   "id": "7109ad98",
   "metadata": {},
   "source": [
    "使用牛顿迭代,根据x和y估计$\\beta$"
   ]
  },
  {
   "cell_type": "code",
   "execution_count": 7,
   "id": "a0bf1bdc",
   "metadata": {},
   "outputs": [],
   "source": [
    "def newton(x,y):\n",
    "#     beta0 = np.random.normal(size = 4)# 随机初始化参数,容易发生梯度爆炸，不如都初始为0\n",
    "    beta0 = np.array([0,0,0,0])\n",
    "    count = 0\n",
    "    while 1:\n",
    "        gx = g(x, beta0, y)\n",
    "        try:\n",
    "            beta1 = beta0 - np.linalg.inv(H(x, beta0)) @ gx\n",
    "        except:\n",
    "#             beta1 = beta0 - np.linalg.pinv(H(x, beta0)) @ gx\n",
    "            beta1 = beta0\n",
    "            break\n",
    "        beta1 = np.asarray(beta1).squeeze()\n",
    "        if np.max(np.abs(beta1 - beta0)) < 10 ** (-5) or count > 500:\n",
    "            break\n",
    "        beta0 = beta1\n",
    "        count += 1\n",
    "    return beta1,count"
   ]
  },
  {
   "cell_type": "code",
   "execution_count": 8,
   "id": "80c086e2",
   "metadata": {},
   "outputs": [
    {
     "name": "stderr",
     "output_type": "stream",
     "text": [
      "100%|████████████████████████████████████████████████████████████████████████████████| 200/200 [00:20<00:00,  9.90it/s]\n"
     ]
    }
   ],
   "source": [
    "beta_hats = list()\n",
    "for r in tqdm(range(R)):\n",
    "    np.random.seed(r)\n",
    "    for N in N_list:\n",
    "        x = generate_x(N)\n",
    "        y = generate_y(x, beta)\n",
    "        beta_hat = newton(x, y)\n",
    "        beta_hats.append(beta_hat)"
   ]
  },
  {
   "cell_type": "markdown",
   "id": "949ae935",
   "metadata": {},
   "source": [
    "## （4）箱线图"
   ]
  },
  {
   "cell_type": "code",
   "execution_count": 9,
   "id": "255c77f4",
   "metadata": {},
   "outputs": [
    {
     "name": "stderr",
     "output_type": "stream",
     "text": [
      "100%|████████████████████████████████████████████████████████████████████████████████| 200/200 [00:02<00:00, 68.57it/s]\n",
      "100%|████████████████████████████████████████████████████████████████████████████████| 200/200 [00:06<00:00, 33.00it/s]\n",
      "100%|████████████████████████████████████████████████████████████████████████████████| 200/200 [00:08<00:00, 22.72it/s]\n",
      "100%|████████████████████████████████████████████████████████████████████████████████| 200/200 [00:11<00:00, 17.91it/s]\n"
     ]
    }
   ],
   "source": [
    "names = ['j=1','j=2','j=3','j=4']\n",
    "box_list = list()\n",
    "for N in N_list: \n",
    "    box = [[],[],[],[]]\n",
    "    for r in tqdm(range(R)):\n",
    "        np.random.seed(r)\n",
    "        x = generate_x(N)\n",
    "        y = generate_y(x, beta)\n",
    "        beta_hat = newton(x, y)[0]\n",
    "        for i in range(4):\n",
    "            box[i].append(beta_hat[i] - beta[i])\n",
    "    box_list.append(box)\n",
    "    "
   ]
  },
  {
   "cell_type": "code",
   "execution_count": 10,
   "id": "1d905207",
   "metadata": {},
   "outputs": [
    {
     "data": {
      "image/png": "[encoded data removed]",
      "text/plain": [
       "<Figure size 640x480 with 4 Axes>"
      ]
     },
     "metadata": {},
     "output_type": "display_data"
    }
   ],
   "source": [
    "count = 0\n",
    "pos = [331, 333, 337, 339]\n",
    "for N in N_list:\n",
    "    ax = plt.subplot(pos[count])\n",
    "    ax.boxplot(box_list[count])\n",
    "    count += 1\n",
    "    ax.set_xticklabels(names)\n",
    "    plt.xlabel('维度')\n",
    "    plt.ylabel('参数偏差')\n",
    "    plt.title(f'N = {N}')\n",
    "plt.show()"
   ]
  },
  {
   "cell_type": "markdown",
   "id": "e5b78d4d",
   "metadata": {},
   "source": [
    "观察箱线图可以发现规律： \\\n",
    "随着N的增大，箱高逐渐缩小(从纵坐标能够明显看出)。这说明随着样本量的增大，参数偏的方差在逐渐减小。"
   ]
  },
  {
   "cell_type": "markdown",
   "id": "792f3870",
   "metadata": {},
   "source": [
    "# 二、征信系列-用户行为数据分析"
   ]
  },
  {
   "cell_type": "markdown",
   "id": "21a7f9f9",
   "metadata": {},
   "source": [
    "## 1 读取数据"
   ]
  },
  {
   "cell_type": "code",
   "execution_count": 11,
   "id": "b0946df0",
   "metadata": {},
   "outputs": [
    {
     "data": {
      "text/html": [
       "<div>\n",
       "<style scoped>\n",
       "    .dataframe tbody tr th:only-of-type {\n",
       "        vertical-align: middle;\n",
       "    }\n",
       "\n",
       "    .dataframe tbody tr th {\n",
       "        vertical-align: top;\n",
       "    }\n",
       "\n",
       "    .dataframe thead th {\n",
       "        text-align: right;\n",
       "    }\n",
       "</style>\n",
       "<table border=\"1\" class=\"dataframe\">\n",
       "  <thead>\n",
       "    <tr style=\"text-align: right;\">\n",
       "      <th></th>\n",
       "      <th>creded</th>\n",
       "      <th>debitF</th>\n",
       "      <th>meanpay</th>\n",
       "      <th>billnum</th>\n",
       "      <th>debitM</th>\n",
       "      <th>zhongxingM</th>\n",
       "      <th>sidaM</th>\n",
       "      <th>xindaiR</th>\n",
       "      <th>cardnum</th>\n",
       "      <th>xindaiF</th>\n",
       "      <th>...</th>\n",
       "      <th>sidaR</th>\n",
       "      <th>zhongxingF</th>\n",
       "      <th>zhongxingR</th>\n",
       "      <th>xiaofeiF</th>\n",
       "      <th>jinkaF</th>\n",
       "      <th>zhuanzhangM</th>\n",
       "      <th>gongjiaoM</th>\n",
       "      <th>youxiM</th>\n",
       "      <th>xindaiS</th>\n",
       "      <th>black</th>\n",
       "    </tr>\n",
       "  </thead>\n",
       "  <tbody>\n",
       "    <tr>\n",
       "      <th>0</th>\n",
       "      <td>0.02</td>\n",
       "      <td>28</td>\n",
       "      <td>474795</td>\n",
       "      <td>4</td>\n",
       "      <td>784137.54</td>\n",
       "      <td>56826</td>\n",
       "      <td>307042</td>\n",
       "      <td>365.00</td>\n",
       "      <td>2</td>\n",
       "      <td>6</td>\n",
       "      <td>...</td>\n",
       "      <td>7.83</td>\n",
       "      <td>4</td>\n",
       "      <td>334.38</td>\n",
       "      <td>6</td>\n",
       "      <td>9</td>\n",
       "      <td>508646.02</td>\n",
       "      <td>297.83</td>\n",
       "      <td>66.02</td>\n",
       "      <td>5760.22</td>\n",
       "      <td>1</td>\n",
       "    </tr>\n",
       "    <tr>\n",
       "      <th>1</th>\n",
       "      <td>0.16</td>\n",
       "      <td>2</td>\n",
       "      <td>346573</td>\n",
       "      <td>32</td>\n",
       "      <td>1217.43</td>\n",
       "      <td>43644</td>\n",
       "      <td>15096</td>\n",
       "      <td>311.73</td>\n",
       "      <td>9</td>\n",
       "      <td>0</td>\n",
       "      <td>...</td>\n",
       "      <td>91.77</td>\n",
       "      <td>14</td>\n",
       "      <td>365.00</td>\n",
       "      <td>1</td>\n",
       "      <td>11</td>\n",
       "      <td>425876.24</td>\n",
       "      <td>3521.03</td>\n",
       "      <td>22.75</td>\n",
       "      <td>83872.62</td>\n",
       "      <td>1</td>\n",
       "    </tr>\n",
       "    <tr>\n",
       "      <th>2</th>\n",
       "      <td>0.32</td>\n",
       "      <td>56</td>\n",
       "      <td>168844</td>\n",
       "      <td>191</td>\n",
       "      <td>95001.76</td>\n",
       "      <td>279217</td>\n",
       "      <td>69815</td>\n",
       "      <td>42.32</td>\n",
       "      <td>8</td>\n",
       "      <td>0</td>\n",
       "      <td>...</td>\n",
       "      <td>36.05</td>\n",
       "      <td>10</td>\n",
       "      <td>27.08</td>\n",
       "      <td>1</td>\n",
       "      <td>2</td>\n",
       "      <td>492287.84</td>\n",
       "      <td>467.64</td>\n",
       "      <td>6.66</td>\n",
       "      <td>31110.55</td>\n",
       "      <td>1</td>\n",
       "    </tr>\n",
       "    <tr>\n",
       "      <th>3</th>\n",
       "      <td>0.01</td>\n",
       "      <td>28</td>\n",
       "      <td>69002</td>\n",
       "      <td>89</td>\n",
       "      <td>487782.48</td>\n",
       "      <td>273731</td>\n",
       "      <td>329437</td>\n",
       "      <td>81.60</td>\n",
       "      <td>15</td>\n",
       "      <td>1</td>\n",
       "      <td>...</td>\n",
       "      <td>10.08</td>\n",
       "      <td>8</td>\n",
       "      <td>191.04</td>\n",
       "      <td>1</td>\n",
       "      <td>8</td>\n",
       "      <td>240067.26</td>\n",
       "      <td>288.67</td>\n",
       "      <td>119.98</td>\n",
       "      <td>7876.13</td>\n",
       "      <td>1</td>\n",
       "    </tr>\n",
       "    <tr>\n",
       "      <th>4</th>\n",
       "      <td>0.19</td>\n",
       "      <td>6</td>\n",
       "      <td>408647</td>\n",
       "      <td>104</td>\n",
       "      <td>22039.56</td>\n",
       "      <td>13529</td>\n",
       "      <td>24725</td>\n",
       "      <td>254.60</td>\n",
       "      <td>17</td>\n",
       "      <td>9</td>\n",
       "      <td>...</td>\n",
       "      <td>324.21</td>\n",
       "      <td>23</td>\n",
       "      <td>248.39</td>\n",
       "      <td>7</td>\n",
       "      <td>0</td>\n",
       "      <td>455464.47</td>\n",
       "      <td>11834.25</td>\n",
       "      <td>28.97</td>\n",
       "      <td>13765.38</td>\n",
       "      <td>0</td>\n",
       "    </tr>\n",
       "    <tr>\n",
       "      <th>5</th>\n",
       "      <td>0.20</td>\n",
       "      <td>65</td>\n",
       "      <td>285313</td>\n",
       "      <td>3</td>\n",
       "      <td>194798.70</td>\n",
       "      <td>11285</td>\n",
       "      <td>17961</td>\n",
       "      <td>50.31</td>\n",
       "      <td>5</td>\n",
       "      <td>0</td>\n",
       "      <td>...</td>\n",
       "      <td>237.08</td>\n",
       "      <td>0</td>\n",
       "      <td>361.47</td>\n",
       "      <td>4</td>\n",
       "      <td>0</td>\n",
       "      <td>192392.72</td>\n",
       "      <td>527.81</td>\n",
       "      <td>27.45</td>\n",
       "      <td>161711.43</td>\n",
       "      <td>0</td>\n",
       "    </tr>\n",
       "    <tr>\n",
       "      <th>6</th>\n",
       "      <td>0.02</td>\n",
       "      <td>39</td>\n",
       "      <td>95582</td>\n",
       "      <td>47</td>\n",
       "      <td>683038.80</td>\n",
       "      <td>493431</td>\n",
       "      <td>101076</td>\n",
       "      <td>193.43</td>\n",
       "      <td>4</td>\n",
       "      <td>4</td>\n",
       "      <td>...</td>\n",
       "      <td>277.95</td>\n",
       "      <td>25</td>\n",
       "      <td>254.59</td>\n",
       "      <td>4</td>\n",
       "      <td>0</td>\n",
       "      <td>370075.36</td>\n",
       "      <td>32316.57</td>\n",
       "      <td>539.21</td>\n",
       "      <td>108730.17</td>\n",
       "      <td>1</td>\n",
       "    </tr>\n",
       "    <tr>\n",
       "      <th>7</th>\n",
       "      <td>0.05</td>\n",
       "      <td>3</td>\n",
       "      <td>291786</td>\n",
       "      <td>65</td>\n",
       "      <td>2752.78</td>\n",
       "      <td>332524</td>\n",
       "      <td>135872</td>\n",
       "      <td>182.72</td>\n",
       "      <td>1</td>\n",
       "      <td>2</td>\n",
       "      <td>...</td>\n",
       "      <td>97.87</td>\n",
       "      <td>20</td>\n",
       "      <td>198.89</td>\n",
       "      <td>2</td>\n",
       "      <td>4</td>\n",
       "      <td>50414.81</td>\n",
       "      <td>11126.52</td>\n",
       "      <td>37.76</td>\n",
       "      <td>148837.36</td>\n",
       "      <td>0</td>\n",
       "    </tr>\n",
       "    <tr>\n",
       "      <th>8</th>\n",
       "      <td>0.01</td>\n",
       "      <td>54</td>\n",
       "      <td>121819</td>\n",
       "      <td>82</td>\n",
       "      <td>173684.82</td>\n",
       "      <td>34654</td>\n",
       "      <td>23808</td>\n",
       "      <td>61.76</td>\n",
       "      <td>2</td>\n",
       "      <td>4</td>\n",
       "      <td>...</td>\n",
       "      <td>290.85</td>\n",
       "      <td>0</td>\n",
       "      <td>160.41</td>\n",
       "      <td>3</td>\n",
       "      <td>1</td>\n",
       "      <td>911546.39</td>\n",
       "      <td>1564.29</td>\n",
       "      <td>613.75</td>\n",
       "      <td>3313.78</td>\n",
       "      <td>1</td>\n",
       "    </tr>\n",
       "    <tr>\n",
       "      <th>9</th>\n",
       "      <td>0.01</td>\n",
       "      <td>65</td>\n",
       "      <td>10925</td>\n",
       "      <td>2</td>\n",
       "      <td>628214.70</td>\n",
       "      <td>9164</td>\n",
       "      <td>802955</td>\n",
       "      <td>262.19</td>\n",
       "      <td>1</td>\n",
       "      <td>0</td>\n",
       "      <td>...</td>\n",
       "      <td>22.75</td>\n",
       "      <td>13</td>\n",
       "      <td>269.27</td>\n",
       "      <td>4</td>\n",
       "      <td>0</td>\n",
       "      <td>639331.16</td>\n",
       "      <td>994.75</td>\n",
       "      <td>357.74</td>\n",
       "      <td>5686.27</td>\n",
       "      <td>0</td>\n",
       "    </tr>\n",
       "  </tbody>\n",
       "</table>\n",
       "<p>10 rows × 27 columns</p>\n",
       "</div>"
      ],
      "text/plain": [
       "   creded  debitF  meanpay  billnum     debitM  zhongxingM   sidaM  xindaiR  \\\n",
       "0    0.02      28   474795        4  784137.54       56826  307042   365.00   \n",
       "1    0.16       2   346573       32    1217.43       43644   15096   311.73   \n",
       "2    0.32      56   168844      191   95001.76      279217   69815    42.32   \n",
       "3    0.01      28    69002       89  487782.48      273731  329437    81.60   \n",
       "4    0.19       6   408647      104   22039.56       13529   24725   254.60   \n",
       "5    0.20      65   285313        3  194798.70       11285   17961    50.31   \n",
       "6    0.02      39    95582       47  683038.80      493431  101076   193.43   \n",
       "7    0.05       3   291786       65    2752.78      332524  135872   182.72   \n",
       "8    0.01      54   121819       82  173684.82       34654   23808    61.76   \n",
       "9    0.01      65    10925        2  628214.70        9164  802955   262.19   \n",
       "\n",
       "   cardnum  xindaiF  ...   sidaR  zhongxingF  zhongxingR  xiaofeiF  jinkaF  \\\n",
       "0        2        6  ...    7.83           4      334.38         6       9   \n",
       "1        9        0  ...   91.77          14      365.00         1      11   \n",
       "2        8        0  ...   36.05          10       27.08         1       2   \n",
       "3       15        1  ...   10.08           8      191.04         1       8   \n",
       "4       17        9  ...  324.21          23      248.39         7       0   \n",
       "5        5        0  ...  237.08           0      361.47         4       0   \n",
       "6        4        4  ...  277.95          25      254.59         4       0   \n",
       "7        1        2  ...   97.87          20      198.89         2       4   \n",
       "8        2        4  ...  290.85           0      160.41         3       1   \n",
       "9        1        0  ...   22.75          13      269.27         4       0   \n",
       "\n",
       "   zhuanzhangM  gongjiaoM  youxiM    xindaiS  black  \n",
       "0    508646.02     297.83   66.02    5760.22      1  \n",
       "1    425876.24    3521.03   22.75   83872.62      1  \n",
       "2    492287.84     467.64    6.66   31110.55      1  \n",
       "3    240067.26     288.67  119.98    7876.13      1  \n",
       "4    455464.47   11834.25   28.97   13765.38      0  \n",
       "5    192392.72     527.81   27.45  161711.43      0  \n",
       "6    370075.36   32316.57  539.21  108730.17      1  \n",
       "7     50414.81   11126.52   37.76  148837.36      0  \n",
       "8    911546.39    1564.29  613.75    3313.78      1  \n",
       "9    639331.16     994.75  357.74    5686.27      0  \n",
       "\n",
       "[10 rows x 27 columns]"
      ]
     },
     "execution_count": 11,
     "metadata": {},
     "output_type": "execute_result"
    }
   ],
   "source": [
    "df = pd.read_csv('simudata.csv')\n",
    "df.head(10)"
   ]
  },
  {
   "cell_type": "markdown",
   "id": "ffdf5508",
   "metadata": {},
   "source": [
    "## 2 箱线图"
   ]
  },
  {
   "cell_type": "markdown",
   "id": "321d3c89",
   "metadata": {},
   "source": [
    "对变量交易笔数和所有用户行为均值分别绘制违约组和非违约组的对比箱线图"
   ]
  },
  {
   "cell_type": "code",
   "execution_count": 12,
   "id": "840cac78",
   "metadata": {},
   "outputs": [],
   "source": [
    "data_0 = df[df['black'] == 0] # 非违约样本\n",
    "data_1 = df[df['black'] == 1] # 违约样本"
   ]
  },
  {
   "cell_type": "markdown",
   "id": "5170e230",
   "metadata": {},
   "source": [
    "首先绘制用户交易笔数的是否违约对比箱线图"
   ]
  },
  {
   "cell_type": "code",
   "execution_count": 13,
   "id": "94d20b6b",
   "metadata": {},
   "outputs": [
    {
     "data": {
      "image/png": "[encoded data removed]",
      "text/plain": [
       "<Figure size 640x480 with 1 Axes>"
      ]
     },
     "metadata": {},
     "output_type": "display_data"
    }
   ],
   "source": [
    "var_name = 'billnum'\n",
    "names = ['非违约','违约']\n",
    "box = [data_0[var_name], data_1[var_name]]\n",
    "ax = plt.subplot()\n",
    "ax.boxplot(box)\n",
    "ax.set_xticklabels(names)\n",
    "plt.xlabel('是否违约')\n",
    "plt.ylabel('用户交易笔数')\n",
    "plt.title(f'用户交易笔数-是否违约箱线图')\n",
    "plt.show()"
   ]
  },
  {
   "cell_type": "markdown",
   "id": "73c6a7a7",
   "metadata": {},
   "source": [
    "绘制用户行为均值："
   ]
  },
  {
   "cell_type": "code",
   "execution_count": 14,
   "id": "136f5493",
   "metadata": {},
   "outputs": [
    {
     "data": {
      "image/png": "[encoded data removed]",
      "text/plain": [
       "<Figure size 640x480 with 1 Axes>"
      ]
     },
     "metadata": {},
     "output_type": "display_data"
    }
   ],
   "source": [
    "var_name = 'meanpay'\n",
    "names = ['非违约','违约']\n",
    "box = [data_0[var_name], data_1[var_name]]\n",
    "ax = plt.subplot()\n",
    "ax.boxplot(box)\n",
    "ax.set_xticklabels(names)\n",
    "plt.xlabel('是否违约')\n",
    "plt.ylabel('用户行为均值')\n",
    "plt.title(f'用户行为均值-是否违约箱线图')\n",
    "plt.show()"
   ]
  },
  {
   "cell_type": "markdown",
   "id": "99f6de70",
   "metadata": {},
   "source": [
    "分析解读：两组箱线图具有高度的一致性，说明违约用户相较于非违约用户，其交易笔数和行为均值都更小，且分布更加集中。"
   ]
  },
  {
   "cell_type": "markdown",
   "id": "4f12c8cf",
   "metadata": {},
   "source": [
    "## 3 逻辑回归与变量选择"
   ]
  },
  {
   "cell_type": "markdown",
   "id": "14e3b6b4",
   "metadata": {},
   "source": [
    "BIC公式为：$-2L(B) + (log N)d$，这里$L(B)$是似然函数，N为样本量，d是维度数量"
   ]
  },
  {
   "cell_type": "markdown",
   "id": "22d0907a",
   "metadata": {},
   "source": [
    "逻辑回归的似然函数为："
   ]
  },
  {
   "cell_type": "markdown",
   "id": "fc12b42d",
   "metadata": {},
   "source": [
    "$$L(\\beta) = \\Pi_{i=1}^n P(Y_i|X_i) = \\Pi_{i=1}^n \\{\\frac{exp(x_i ^T \\beta)}{1 + exp(x_i ^T \\beta)}\\}^{Y_i}\\{\\frac{1}{1 + exp(x_i ^T \\beta)}\\}^{1 - Y_i} $$"
   ]
  },
  {
   "cell_type": "markdown",
   "id": "6fa5db2f",
   "metadata": {},
   "source": [
    "据此写出对数似然函数：（之所以用对数似然函数，而不用原本的似然函数，是因为原本似然函数是概率连乘，结果都比较接近0，没有区分度）"
   ]
  },
  {
   "cell_type": "code",
   "execution_count": 15,
   "id": "0014f283",
   "metadata": {},
   "outputs": [],
   "source": [
    "def p(x, beta):\n",
    "    return 1/(1 + np.exp(- x @ beta))\n",
    "\n",
    "\n",
    "def loglikelihood(x, beta, y):\n",
    "    length = len(x)\n",
    "    initial = 0\n",
    "    for i in range(length):\n",
    "        if y[i] == 1:\n",
    "            initial += np.log(p(x[i], beta))\n",
    "        else:\n",
    "            initial += np.log((1 - p(x[i], beta)))\n",
    "    return initial"
   ]
  },
  {
   "cell_type": "markdown",
   "id": "c1eda320",
   "metadata": {},
   "source": [
    "可以尝试通过向前选择的方式，每次新加入一个特征使得BIC最小"
   ]
  },
  {
   "cell_type": "code",
   "execution_count": 16,
   "id": "381df107",
   "metadata": {},
   "outputs": [],
   "source": [
    "y = df['black']\n",
    "column_names = df.columns"
   ]
  },
  {
   "cell_type": "code",
   "execution_count": 17,
   "id": "85e39333",
   "metadata": {},
   "outputs": [
    {
     "name": "stdout",
     "output_type": "stream",
     "text": [
      "meanpay [9966.81016746]\n",
      "debitF [9790.80966357]\n",
      "xindaiR [9572.93770318]\n",
      "sidaM [9400.03472593]\n",
      "zhuanzhangF [9340.26072945]\n",
      "billnum [9187.9294336]\n",
      "zhuanzhangR [9174.08128998]\n",
      "xiaofeiF [9182.01466996]\n",
      "gongjiaoR [9161.66586337]\n",
      "cardnum [9160.34483391]\n",
      "sidaF [9159.84299494]\n",
      "xindaiF [9163.265889]\n",
      "xindaiS [9165.57494519]\n",
      "gongjiaoF [9196.41449046]\n",
      "zhongxingF [9185.2347506]\n",
      "jinkaF [9196.36798677]\n",
      "creded [9200.02557228]\n",
      "maxpay [9264.56780939]\n",
      "sidaR [9193.14845166]\n",
      "zhongxingM [9193.02651625]\n",
      "debitM [9273.07759644]\n",
      "zhuanzhangM [9280.78748453]\n",
      "age [9281.31539225]\n",
      "zhongxingR [9313.38765482]\n",
      "youxiM [9384.89410931]\n",
      "gongjiaoM [9571.73737714]\n"
     ]
    }
   ],
   "source": [
    "candicate = list(df.columns[0:len(column_names) - 1])\n",
    "features = list()\n",
    "N = len(df)\n",
    "for i in range(len(candicate)):\n",
    "    bic_min = float('inf')\n",
    "    for j in candicate:\n",
    "        features_tmp = features + [j]\n",
    "        d = len(features_tmp)\n",
    "        x = np.asarray(df[features_tmp])\n",
    "        model = LogisticRegression().fit(x, y)\n",
    "        beta_hat = model.coef_.reshape((-1,1))\n",
    "        L = loglikelihood(x, beta_hat, y)\n",
    "        bic = -2 * L + np.log(N) * d\n",
    "        if bic < bic_min:\n",
    "            bic_min = bic\n",
    "            best_candicate = j\n",
    "    features.append(best_candicate)\n",
    "    candicate.remove(best_candicate)\n",
    "    print(best_candicate, bic_min)"
   ]
  },
  {
   "cell_type": "markdown",
   "id": "b60b4bda",
   "metadata": {},
   "source": [
    "上述过程为向前选择，每次添加一个BIC最小变量，可见在添加sidaF变量后，全局BIC达到最小值9159.8，因此最佳的变量组合为："
   ]
  },
  {
   "cell_type": "code",
   "execution_count": 18,
   "id": "b106a620",
   "metadata": {},
   "outputs": [],
   "source": [
    "best_combination = ['meanpay','debitF','xindaiR','sidaM','zhuanzhangF','billnum','zhuanzhangR','xiaofeiF','gongjiaoR','cardnum','sidaF']"
   ]
  },
  {
   "cell_type": "code",
   "execution_count": 19,
   "id": "3382ff4c",
   "metadata": {},
   "outputs": [],
   "source": [
    "x = np.asarray(df[best_combination])\n",
    "model = LogisticRegression().fit(x, y)\n",
    "beta_hat = model.coef_.reshape((-1,1))"
   ]
  },
  {
   "cell_type": "code",
   "execution_count": 20,
   "id": "1006a8b1",
   "metadata": {},
   "outputs": [
    {
     "data": {
      "text/plain": [
       "array([[-2.12200455e-06],\n",
       "       [-1.02291255e-02],\n",
       "       [ 4.06328800e-03],\n",
       "       [-1.10053643e-06],\n",
       "       [ 7.79777103e-03],\n",
       "       [-5.48960734e-03],\n",
       "       [ 1.24500456e-03],\n",
       "       [ 3.95838413e-04],\n",
       "       [-1.00217589e-03],\n",
       "       [ 2.02171932e-03],\n",
       "       [ 2.31631848e-03]])"
      ]
     },
     "execution_count": 20,
     "metadata": {},
     "output_type": "execute_result"
    }
   ],
   "source": [
    "beta_hat"
   ]
  },
  {
   "cell_type": "markdown",
   "id": "49ff62b1",
   "metadata": {},
   "source": [
    "对系数的解释： \\\n",
    "由于这里没有事先对x做标准化或者归一化，所以系数的绝对值大小不能作为互相比较的依据。但是可以从系数的正负看出各个变量对于被预测变量（是否违约）呈正相关还是负相关。 \\\n",
    "行为均值、借记类F、四大行M、交易笔数、公缴类R这五个变量越大，则用户的违约概率越小。 \\\n",
    "而信贷类R、转账类F、转账类R、消费类F、银行卡数、四大行F者六个变量越大，则用户的违约概率越大。"
   ]
  },
  {
   "cell_type": "markdown",
   "id": "be754bc8",
   "metadata": {},
   "source": [
    "# AUC & ROC"
   ]
  },
  {
   "cell_type": "code",
   "execution_count": 21,
   "id": "02e78781",
   "metadata": {},
   "outputs": [],
   "source": [
    "ypre = model.predict_proba(x)[:, 1]"
   ]
  },
  {
   "cell_type": "code",
   "execution_count": 22,
   "id": "cf3a7f29",
   "metadata": {},
   "outputs": [],
   "source": [
    "FPR,TPR,threshold=roc_curve(y,ypre,pos_label=1)"
   ]
  },
  {
   "cell_type": "code",
   "execution_count": 23,
   "id": "0f9de2eb",
   "metadata": {},
   "outputs": [
    {
     "name": "stdout",
     "output_type": "stream",
     "text": [
      "0.7236975855029784\n"
     ]
    }
   ],
   "source": [
    "AUC=auc(FPR,TPR)\n",
    "print(AUC)"
   ]
  },
  {
   "cell_type": "code",
   "execution_count": 24,
   "id": "b8221950",
   "metadata": {},
   "outputs": [
    {
     "data": {
      "image/png": "[encoded data removed]",
      "text/plain": [
       "<Figure size 640x480 with 1 Axes>"
      ]
     },
     "metadata": {},
     "output_type": "display_data"
    }
   ],
   "source": [
    "plt.figure()\n",
    "plt.title(f'ROC曲线（AUC = {round(AUC, 3 )}）')\n",
    "plt.xlabel('假正率')\n",
    "plt.ylabel('真正率')\n",
    "plt.xlim([0.0,1.0])\n",
    "plt.ylim([0.0,1.0])\n",
    "plt.plot(FPR,TPR,color='r')\n",
    "plt.plot([0, 1], [0, 1], color='b', linestyle='--')\n",
    "plt.show()"
   ]
  },
  {
   "cell_type": "markdown",
   "id": "0b45aaff",
   "metadata": {},
   "source": [
    "ROC曲线明显向左上凸起，曲线下面积为0.724，逻辑回归拟合效果良好。"
   ]
  },
  {
   "cell_type": "markdown",
   "id": "6efd2653",
   "metadata": {},
   "source": [
    "## 5 非违约人群柱状图"
   ]
  },
  {
   "cell_type": "code",
   "execution_count": 25,
   "id": "4926c636",
   "metadata": {},
   "outputs": [],
   "source": [
    "white = sorted((1 - ypre))[::-1]\n",
    "height = len(white) // 5\n",
    "a,b,c,d,e = np.mean(white[0:height]),np.mean(white[height:2 * height]),np.mean(white[2 * height:3 * height]),np.mean(white[3 * height:4 * height]),np.mean(white[4 * height:])"
   ]
  },
  {
   "cell_type": "code",
   "execution_count": 26,
   "id": "c7b0c7c6",
   "metadata": {},
   "outputs": [
    {
     "data": {
      "image/png": "[encoded data removed]",
      "text/plain": [
       "<Figure size 640x480 with 1 Axes>"
      ]
     },
     "metadata": {},
     "output_type": "display_data"
    }
   ],
   "source": [
    "x=[1,2,3,4,5]  \n",
    "y=[a,b,c,d,e]  \n",
    "\n",
    "color=['red','pink','yellow','grey','black']\n",
    "x_label=['top20%','class2','class3','class4','bottom20%']\n",
    "plt.xticks(x, x_label)  # 绘制x刻度标签\n",
    "plt.bar(x, y,color=color)  # 绘制y刻度标签\n",
    "plt.title(f'等分五组非违约概率均值柱状图')\n",
    "plt.xlabel('组别')\n",
    "plt.ylabel('非违约概率')\n",
    "#设置网格刻度\n",
    "plt.grid(True,linestyle=':',color='r',alpha=0.6)\n",
    "plt.show()"
   ]
  },
  {
   "cell_type": "markdown",
   "id": "2c8d6e6b",
   "metadata": {},
   "source": [
    "商业用途解读：可以从途中看出，非违约概率的分布显示出极端、集中的特点，非违约概率在前40%的人群中都比较高，但是在最后20%展示出骤降。这说明在信贷问题中，提取用户特征进行违约评级后，应该对违约风险位列前茅的少部分用户进行严格防范，这一小批人群的违约概率很高。"
   ]
  }
 ],
 "metadata": {
  "kernelspec": {
   "display_name": "Python 3 (ipykernel)",
   "language": "python",
   "name": "python3"
  },
  "language_info": {
   "codemirror_mode": {
    "name": "ipython",
    "version": 3
   },
   "file_extension": ".py",
   "mimetype": "text/x-python",
   "name": "python",
   "nbconvert_exporter": "python",
   "pygments_lexer": "ipython3",
   "version": "3.9.13"
  }
 },
 "nbformat": 4,
 "nbformat_minor": 5
}
